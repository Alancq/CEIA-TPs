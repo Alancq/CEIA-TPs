{
 "cells": [
  {
   "cell_type": "markdown",
   "id": "5fd1d0ee-c9fe-49e5-af6a-dae945ced9c9",
   "metadata": {},
   "source": [
    "## tp1 Inteligencia artificial CEIA - TP1: Algoritmos de búsqueda en Torre de Hanoi (20Co2025)"
   ]
  },
  {
   "cell_type": "code",
   "execution_count": 29,
   "id": "ffd0e553-85f0-4f53-992e-0918680d288e",
   "metadata": {},
   "outputs": [],
   "source": [
    "from aima_libs.hanoi_states import ProblemHanoi, StatesHanoi\n",
    "from aima_libs.tree_hanoi import NodeHanoi"
   ]
  },
  {
   "cell_type": "code",
   "execution_count": 34,
   "id": "458b67a0-8acb-45bd-8e20-69279f8ef412",
   "metadata": {},
   "outputs": [],
   "source": [
    "runs = 10\n",
    "number_disks=6"
   ]
  },
  {
   "cell_type": "code",
   "execution_count": 37,
   "id": "09a6349d-6b22-472a-b927-bebbd983b2a3",
   "metadata": {},
   "outputs": [],
   "source": [
    "def breadth_first_search(number_disks):\n",
    "    # Inicializamos el problema\n",
    "    list_disks = [i for i in range(number_disks, 0, -1)]\n",
    "    initial_state = StatesHanoi(list_disks, [], [], max_disks=number_disks)\n",
    "    goal_state = StatesHanoi([], [], list_disks, max_disks=number_disks)\n",
    "    problem = ProblemHanoi(initial=initial_state, goal=goal_state)\n",
    "\n",
    "    # Creamos una cola FIFO con el nodo inicial\n",
    "    frontier = [NodeHanoi(problem.initial)]  \n",
    "\n",
    "    # Creamos el set con estados ya visitados\n",
    "    explored = set()\n",
    "    \n",
    "    node_explored = 0\n",
    "    \n",
    "    while len(frontier) != 0:\n",
    "        node = frontier.pop()\n",
    "        node_explored += 1\n",
    "        \n",
    "        # Agregamos el estado del nodo al set. Esto evita guardar duplicados, porque set nunca tiene elementos repetidos\n",
    "        explored.add(node.state)\n",
    "        \n",
    "        if problem.goal_test(node.state):  # Comprobamos si hemos alcanzado el estado objetivo\n",
    "            metrics = {\n",
    "                \"solution_found\": True,\n",
    "                \"nodes_explored\": node_explored,\n",
    "                \"states_visited\": len(explored),\n",
    "                \"nodes_in_frontier\": len(frontier),\n",
    "                \"max_depth\": node.depth,\n",
    "                \"cost_total\": node.state.accumulated_cost,\n",
    "            }\n",
    "            return node, metrics\n",
    "        \n",
    "        # Agregamos a la cola todos los nodos sucesores del nodo actual\n",
    "        for next_node in node.expand(problem):\n",
    "            # Solo si el estado del nodo no fue explorado\n",
    "            if next_node.state not in explored:\n",
    "                frontier.insert(0, next_node)\n",
    "\n",
    "    # Si no se encontro la solución, devolvemos la métricas igual\n",
    "    metrics = {\n",
    "        \"solution_found\": False,\n",
    "        \"nodes_explored\": node_explored,\n",
    "        \"states_visited\": len(explored),\n",
    "        \"nodes_in_frontier\": len(frontier),\n",
    "        \"max_depth\": node.depth, # OBS: Si no se encontró la solución, este valor solo tiene sentido en breadth_first_search, en otros casos se debe ir llevando registro de cual fue la máxima profundidad\n",
    "        \"cost_total\": None,\n",
    "    }\n",
    "    return None, metrics"
   ]
  },
  {
   "cell_type": "code",
   "execution_count": 44,
   "id": "08546293-ae39-42d8-9e93-911abd9e7305",
   "metadata": {},
   "outputs": [
    {
     "name": "stdout",
     "output_type": "stream",
     "text": [
      "======1=====\n",
      "solution_found: True\n",
      "nodes_explored: 7246\n",
      "states_visited: 687\n",
      "nodes_in_frontier: 735\n",
      "max_depth: 63\n",
      "cost_total: 63.0\n",
      "Pico de memoria ocupada: 6.17 [MB]\n",
      "tiempo de ejecucion: 1.507155418395996\n",
      "======2=====\n",
      "solution_found: True\n",
      "nodes_explored: 7246\n",
      "states_visited: 687\n",
      "nodes_in_frontier: 735\n",
      "max_depth: 63\n",
      "cost_total: 63.0\n",
      "Pico de memoria ocupada: 6.21 [MB]\n",
      "tiempo de ejecucion: 1.5664725303649902\n",
      "======3=====\n",
      "solution_found: True\n",
      "nodes_explored: 7246\n",
      "states_visited: 687\n",
      "nodes_in_frontier: 735\n",
      "max_depth: 63\n",
      "cost_total: 63.0\n",
      "Pico de memoria ocupada: 6.21 [MB]\n",
      "tiempo de ejecucion: 1.5611448287963867\n",
      "======4=====\n",
      "solution_found: True\n",
      "nodes_explored: 7246\n",
      "states_visited: 687\n",
      "nodes_in_frontier: 735\n",
      "max_depth: 63\n",
      "cost_total: 63.0\n",
      "Pico de memoria ocupada: 6.21 [MB]\n",
      "tiempo de ejecucion: 1.5997488498687744\n",
      "======5=====\n",
      "solution_found: True\n",
      "nodes_explored: 7246\n",
      "states_visited: 687\n",
      "nodes_in_frontier: 735\n",
      "max_depth: 63\n",
      "cost_total: 63.0\n",
      "Pico de memoria ocupada: 6.21 [MB]\n",
      "tiempo de ejecucion: 1.5964274406433105\n",
      "======6=====\n",
      "solution_found: True\n",
      "nodes_explored: 7246\n",
      "states_visited: 687\n",
      "nodes_in_frontier: 735\n",
      "max_depth: 63\n",
      "cost_total: 63.0\n",
      "Pico de memoria ocupada: 6.13 [MB]\n",
      "tiempo de ejecucion: 1.5912885665893555\n",
      "======7=====\n",
      "solution_found: True\n",
      "nodes_explored: 7246\n",
      "states_visited: 687\n",
      "nodes_in_frontier: 735\n",
      "max_depth: 63\n",
      "cost_total: 63.0\n",
      "Pico de memoria ocupada: 6.19 [MB]\n",
      "tiempo de ejecucion: 1.4889051914215088\n",
      "======8=====\n",
      "solution_found: True\n",
      "nodes_explored: 7246\n",
      "states_visited: 687\n",
      "nodes_in_frontier: 735\n",
      "max_depth: 63\n",
      "cost_total: 63.0\n",
      "Pico de memoria ocupada: 6.21 [MB]\n",
      "tiempo de ejecucion: 1.5707168579101562\n",
      "======9=====\n",
      "solution_found: True\n",
      "nodes_explored: 7246\n",
      "states_visited: 687\n",
      "nodes_in_frontier: 735\n",
      "max_depth: 63\n",
      "cost_total: 63.0\n",
      "Pico de memoria ocupada: 6.21 [MB]\n",
      "tiempo de ejecucion: 1.5262329578399658\n",
      "======10=====\n",
      "solution_found: True\n",
      "nodes_explored: 7246\n",
      "states_visited: 687\n",
      "nodes_in_frontier: 735\n",
      "max_depth: 63\n",
      "cost_total: 63.0\n",
      "Pico de memoria ocupada: 6.21 [MB]\n",
      "tiempo de ejecucion: 1.5101802349090576\n"
     ]
    }
   ],
   "source": [
    "import tracemalloc\n",
    "import time\n",
    "memory_reg = []\n",
    "exec_times= []\n",
    "for i in range(runs):\n",
    "    tracemalloc.start()\n",
    "    inicio = time.time()\n",
    "    solution, metrics = breadth_first_search(number_disks)\n",
    "    fin=time.time()\n",
    "    # Para medir memoria consumida usamos el pico de memoria\n",
    "    _, memory_peak = tracemalloc.get_traced_memory()\n",
    "    memory_peak /= 1024*1024\n",
    "    tracemalloc.stop()\n",
    "    print(f\"======{i+1}=====\")\n",
    "    for key, value in metrics.items():\n",
    "        print(f\"{key}: {value}\")\n",
    "    \"\"\"for nodos in solution.path():\n",
    "        print(nodos)\n",
    "    for act in solution.solution():\n",
    "        print(act)\"\"\"\n",
    "    print(f\"Pico de memoria ocupada: {round(memory_peak, 2)} [MB]\", )\n",
    "    print(f\"tiempo de ejecucion: {fin-inicio}\")\n",
    "    exec_times.append(fin-inicio)\n",
    "    memory_reg.append(round(memory_peak, 2))\n",
    "    "
   ]
  },
  {
   "cell_type": "code",
   "execution_count": 48,
   "id": "c42de943-eff1-4507-a022-7ffffdbc5b86",
   "metadata": {},
   "outputs": [
    {
     "name": "stdout",
     "output_type": "stream",
     "text": [
      "[1.507155418395996, 1.5664725303649902, 1.5611448287963867, 1.5997488498687744, 1.5964274406433105, 1.5912885665893555, 1.4889051914215088, 1.5707168579101562, 1.5262329578399658, 1.5101802349090576]\n",
      "[6.17, 6.21, 6.21, 6.21, 6.21, 6.13, 6.19, 6.21, 6.21, 6.21]\n",
      "Tiempo promedio: 1.5518 s\n",
      "Desviacion estandar de tiempo: 0.0406 s\n",
      "Memoria promedio: 6.2\n",
      "Desviacion estandar de memoria: 0.03\n"
     ]
    }
   ],
   "source": [
    "import statistics\n",
    "print(exec_times)\n",
    "print(memory_reg)\n",
    "print(f\"Tiempo promedio: {round(statistics.mean(exec_times), 4)} s\")\n",
    "print(f\"Desviacion estandar de tiempo: {round(statistics.stdev(exec_times), 4)} s\")\n",
    "print(f\"Memoria promedio: {round(statistics.mean(memory_reg), 2)}\")\n",
    "print(f\"Desviacion estandar de memoria: {round(statistics.stdev(memory_reg), 2)}\")"
   ]
  },
  {
   "cell_type": "markdown",
   "id": "aaa1cb8a-df01-4598-bdbe-4825da16436b",
   "metadata": {},
   "source": [
    "### Para usar el simulador"
   ]
  },
  {
   "cell_type": "code",
   "execution_count": 40,
   "id": "caf34a3c-f59a-498e-b513-5ced571a1bc8",
   "metadata": {},
   "outputs": [],
   "source": [
    "solution.generate_solution_for_simulator()"
   ]
  },
  {
   "cell_type": "code",
   "execution_count": 41,
   "id": "438d34cc-19b0-4d0f-b9f4-e5683a4397df",
   "metadata": {},
   "outputs": [
    {
     "name": "stdout",
     "output_type": "stream",
     "text": [
      "pygame 2.6.1 (SDL 2.28.4, Python 3.10.16)\n",
      "Hello from the pygame community. https://www.pygame.org/contribute.html\n"
     ]
    }
   ],
   "source": [
    "!python3 ./simulator/simulation_hanoi.py"
   ]
  },
  {
   "cell_type": "code",
   "execution_count": null,
   "id": "ca59829d-ebb9-44c5-95d9-6193518c0ec1",
   "metadata": {},
   "outputs": [],
   "source": []
  }
 ],
 "metadata": {
  "kernelspec": {
   "display_name": "Python 3 (ipykernel)",
   "language": "python",
   "name": "python3"
  },
  "language_info": {
   "codemirror_mode": {
    "name": "ipython",
    "version": 3
   },
   "file_extension": ".py",
   "mimetype": "text/x-python",
   "name": "python",
   "nbconvert_exporter": "python",
   "pygments_lexer": "ipython3",
   "version": "3.10.16"
  }
 },
 "nbformat": 4,
 "nbformat_minor": 5
}
