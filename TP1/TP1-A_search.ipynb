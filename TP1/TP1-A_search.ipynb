{
 "cells": [
  {
   "cell_type": "markdown",
   "id": "5fd1d0ee-c9fe-49e5-af6a-dae945ced9c9",
   "metadata": {},
   "source": [
    "## tp1 Inteligencia artificial CEIA - TP1: Algoritmos de búsqueda en Torre de Hanoi (20Co2025)"
   ]
  },
  {
   "cell_type": "code",
   "execution_count": 14,
   "id": "ffd0e553-85f0-4f53-992e-0918680d288e",
   "metadata": {},
   "outputs": [],
   "source": [
    "from aima_libs.hanoi_states import ProblemHanoi, StatesHanoi\n",
    "from aima_libs.tree_hanoi import NodeHanoi"
   ]
  },
  {
   "cell_type": "code",
   "execution_count": 15,
   "id": "458b67a0-8acb-45bd-8e20-69279f8ef412",
   "metadata": {},
   "outputs": [],
   "source": [
    "runs = 10\n",
    "number_disks=5"
   ]
  },
  {
   "cell_type": "code",
   "execution_count": 16,
   "id": "09a6349d-6b22-472a-b927-bebbd983b2a3",
   "metadata": {},
   "outputs": [],
   "source": [
    "def breadth_first_search(number_disks):\n",
    "    # Inicializamos el problema\n",
    "    list_disks = [i for i in range(5, 0, -1)]\n",
    "    initial_state = StatesHanoi(list_disks, [], [], max_disks=number_disks)\n",
    "    goal_state = StatesHanoi([], [], list_disks, max_disks=number_disks)\n",
    "    problem = ProblemHanoi(initial=initial_state, goal=goal_state)\n",
    "\n",
    "    # Creamos una cola FIFO con el nodo inicial\n",
    "    frontier = [NodeHanoi(problem.initial)]  \n",
    "\n",
    "    # Creamos el set con estados ya visitados\n",
    "    explored = set()\n",
    "    \n",
    "    node_explored = 0\n",
    "    \n",
    "    while len(frontier) != 0:\n",
    "        node = frontier.pop()\n",
    "        node_explored += 1\n",
    "        \n",
    "        # Agregamos el estado del nodo al set. Esto evita guardar duplicados, porque set nunca tiene elementos repetidos\n",
    "        explored.add(node.state)\n",
    "        \n",
    "        if problem.goal_test(node.state):  # Comprobamos si hemos alcanzado el estado objetivo\n",
    "            metrics = {\n",
    "                \"solution_found\": True,\n",
    "                \"nodes_explored\": node_explored,\n",
    "                \"states_visited\": len(explored),\n",
    "                \"nodes_in_frontier\": len(frontier),\n",
    "                \"max_depth\": node.depth,\n",
    "                \"cost_total\": node.state.accumulated_cost,\n",
    "            }\n",
    "            return node, metrics\n",
    "        \n",
    "        # Agregamos a la cola todos los nodos sucesores del nodo actual\n",
    "        for next_node in node.expand(problem):\n",
    "            # Solo si el estado del nodo no fue explorado\n",
    "            if next_node.state not in explored:\n",
    "                frontier.insert(0, next_node)\n",
    "\n",
    "    # Si no se encontro la solución, devolvemos la métricas igual\n",
    "    metrics = {\n",
    "        \"solution_found\": False,\n",
    "        \"nodes_explored\": node_explored,\n",
    "        \"states_visited\": len(explored),\n",
    "        \"nodes_in_frontier\": len(frontier),\n",
    "        \"max_depth\": node.depth, # OBS: Si no se encontró la solución, este valor solo tiene sentido en breadth_first_search, en otros casos se debe ir llevando registro de cual fue la máxima profundidad\n",
    "        \"cost_total\": None,\n",
    "    }\n",
    "    return None, metrics"
   ]
  },
  {
   "cell_type": "code",
   "execution_count": 23,
   "id": "08546293-ae39-42d8-9e93-911abd9e7305",
   "metadata": {},
   "outputs": [
    {
     "name": "stdout",
     "output_type": "stream",
     "text": [
      "======1=====\n",
      "solution_found: True\n",
      "nodes_explored: 1351\n",
      "states_visited: 233\n",
      "nodes_in_frontier: 285\n",
      "max_depth: 31\n",
      "cost_total: 31.0\n",
      "Pico de memoria ocupada: 1.68 [MB]\n",
      "======2=====\n",
      "solution_found: True\n",
      "nodes_explored: 1351\n",
      "states_visited: 233\n",
      "nodes_in_frontier: 285\n",
      "max_depth: 31\n",
      "cost_total: 31.0\n",
      "Pico de memoria ocupada: 1.7 [MB]\n",
      "======3=====\n",
      "solution_found: True\n",
      "nodes_explored: 1351\n",
      "states_visited: 233\n",
      "nodes_in_frontier: 285\n",
      "max_depth: 31\n",
      "cost_total: 31.0\n",
      "Pico de memoria ocupada: 1.6 [MB]\n",
      "======4=====\n",
      "solution_found: True\n",
      "nodes_explored: 1351\n",
      "states_visited: 233\n",
      "nodes_in_frontier: 285\n",
      "max_depth: 31\n",
      "cost_total: 31.0\n",
      "Pico de memoria ocupada: 1.6 [MB]\n",
      "======5=====\n",
      "solution_found: True\n",
      "nodes_explored: 1351\n",
      "states_visited: 233\n",
      "nodes_in_frontier: 285\n",
      "max_depth: 31\n",
      "cost_total: 31.0\n",
      "Pico de memoria ocupada: 1.6 [MB]\n",
      "======6=====\n",
      "solution_found: True\n",
      "nodes_explored: 1351\n",
      "states_visited: 233\n",
      "nodes_in_frontier: 285\n",
      "max_depth: 31\n",
      "cost_total: 31.0\n",
      "Pico de memoria ocupada: 1.6 [MB]\n",
      "======7=====\n",
      "solution_found: True\n",
      "nodes_explored: 1351\n",
      "states_visited: 233\n",
      "nodes_in_frontier: 285\n",
      "max_depth: 31\n",
      "cost_total: 31.0\n",
      "Pico de memoria ocupada: 1.6 [MB]\n",
      "======8=====\n",
      "solution_found: True\n",
      "nodes_explored: 1351\n",
      "states_visited: 233\n",
      "nodes_in_frontier: 285\n",
      "max_depth: 31\n",
      "cost_total: 31.0\n",
      "Pico de memoria ocupada: 1.7 [MB]\n",
      "======9=====\n",
      "solution_found: True\n",
      "nodes_explored: 1351\n",
      "states_visited: 233\n",
      "nodes_in_frontier: 285\n",
      "max_depth: 31\n",
      "cost_total: 31.0\n",
      "Pico de memoria ocupada: 1.6 [MB]\n",
      "======10=====\n",
      "solution_found: True\n",
      "nodes_explored: 1351\n",
      "states_visited: 233\n",
      "nodes_in_frontier: 285\n",
      "max_depth: 31\n",
      "cost_total: 31.0\n",
      "Pico de memoria ocupada: 1.6 [MB]\n"
     ]
    }
   ],
   "source": [
    "import tracemalloc\n",
    "memory_reg = []\n",
    "for i in range(runs):\n",
    "    tracemalloc.start()\n",
    "    solution, metrics = breadth_first_search(number_disks)\n",
    "    # Para medir memoria consumida usamos el pico de memoria\n",
    "    _, memory_peak = tracemalloc.get_traced_memory()\n",
    "    memory_peak /= 1024*1024\n",
    "    tracemalloc.stop()\n",
    "    print(f\"======{i+1}=====\")\n",
    "    for key, value in metrics.items():\n",
    "        print(f\"{key}: {value}\")\n",
    "    \"\"\"for nodos in solution.path():\n",
    "        print(nodos)\n",
    "    for act in solution.solution():\n",
    "        print(act)\"\"\"\n",
    "    print(f\"Pico de memoria ocupada: {round(memory_peak, 2)} [MB]\", )\n",
    "    memory_reg.append(round(memory_peak, 2))\n",
    "    "
   ]
  },
  {
   "cell_type": "code",
   "execution_count": 26,
   "id": "c42de943-eff1-4507-a022-7ffffdbc5b86",
   "metadata": {},
   "outputs": [
    {
     "name": "stdout",
     "output_type": "stream",
     "text": [
      "[1.68, 1.7, 1.6, 1.6, 1.6, 1.6, 1.6, 1.7, 1.6, 1.6]\n",
      "1.628\n"
     ]
    }
   ],
   "source": [
    "import statistics\n",
    "print(memory_reg)\n",
    "print(round(statistics.mean(memory_reg), 2))\n",
    "print(round(statistics.stdev(memory_usages), 4))"
   ]
  },
  {
   "cell_type": "markdown",
   "id": "aaa1cb8a-df01-4598-bdbe-4825da16436b",
   "metadata": {},
   "source": [
    "### Para usar el simulador"
   ]
  },
  {
   "cell_type": "code",
   "execution_count": 18,
   "id": "caf34a3c-f59a-498e-b513-5ced571a1bc8",
   "metadata": {},
   "outputs": [],
   "source": [
    "solution.generate_solution_for_simulator()"
   ]
  },
  {
   "cell_type": "code",
   "execution_count": 19,
   "id": "438d34cc-19b0-4d0f-b9f4-e5683a4397df",
   "metadata": {},
   "outputs": [
    {
     "name": "stdout",
     "output_type": "stream",
     "text": [
      "pygame 2.6.1 (SDL 2.28.4, Python 3.10.16)\n",
      "Hello from the pygame community. https://www.pygame.org/contribute.html\n",
      "^C\n",
      "Traceback (most recent call last):\n",
      "  File \"/home/alan/Desktop/inteligenciaArtificialUBA/IIA-CEIA-TPs/TP1/./simulator/simulation_hanoi.py\", line 100, in <module>\n",
      "    main()\n",
      "  File \"/home/alan/Desktop/inteligenciaArtificialUBA/IIA-CEIA-TPs/TP1/./simulator/simulation_hanoi.py\", line 87, in main\n",
      "    clock.tick(FPS)\n",
      "KeyboardInterrupt\n"
     ]
    }
   ],
   "source": [
    "!python3 ./simulator/simulation_hanoi.py"
   ]
  },
  {
   "cell_type": "code",
   "execution_count": null,
   "id": "ca59829d-ebb9-44c5-95d9-6193518c0ec1",
   "metadata": {},
   "outputs": [],
   "source": []
  }
 ],
 "metadata": {
  "kernelspec": {
   "display_name": "Python 3 (ipykernel)",
   "language": "python",
   "name": "python3"
  },
  "language_info": {
   "codemirror_mode": {
    "name": "ipython",
    "version": 3
   },
   "file_extension": ".py",
   "mimetype": "text/x-python",
   "name": "python",
   "nbconvert_exporter": "python",
   "pygments_lexer": "ipython3",
   "version": "3.10.16"
  }
 },
 "nbformat": 4,
 "nbformat_minor": 5
}
